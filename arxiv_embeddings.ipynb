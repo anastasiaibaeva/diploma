{
 "cells": [
  {
   "cell_type": "code",
   "execution_count": 1,
   "metadata": {},
   "outputs": [],
   "source": [
    "import pandas as pd"
   ]
  },
  {
   "cell_type": "code",
   "execution_count": 2,
   "metadata": {},
   "outputs": [
    {
     "name": "stderr",
     "output_type": "stream",
     "text": [
      "/opt/anaconda3/lib/python3.7/site-packages/IPython/core/interactiveshell.py:3326: DtypeWarning: Columns (0) have mixed types.Specify dtype option on import or set low_memory=False.\n",
      "  exec(code_obj, self.user_global_ns, self.user_ns)\n"
     ]
    },
    {
     "data": {
      "text/html": [
       "<div>\n",
       "<style scoped>\n",
       "    .dataframe tbody tr th:only-of-type {\n",
       "        vertical-align: middle;\n",
       "    }\n",
       "\n",
       "    .dataframe tbody tr th {\n",
       "        vertical-align: top;\n",
       "    }\n",
       "\n",
       "    .dataframe thead th {\n",
       "        text-align: right;\n",
       "    }\n",
       "</style>\n",
       "<table border=\"1\" class=\"dataframe\">\n",
       "  <thead>\n",
       "    <tr style=\"text-align: right;\">\n",
       "      <th></th>\n",
       "      <th>id</th>\n",
       "      <th>title</th>\n",
       "      <th>categories</th>\n",
       "    </tr>\n",
       "  </thead>\n",
       "  <tbody>\n",
       "    <tr>\n",
       "      <th>0</th>\n",
       "      <td>704.0033</td>\n",
       "      <td>Convergence of the discrete dipole approximati...</td>\n",
       "      <td>['physics', 'optics']</td>\n",
       "    </tr>\n",
       "    <tr>\n",
       "      <th>1</th>\n",
       "      <td>704.0038</td>\n",
       "      <td>The discrete dipole approximation: an overview...</td>\n",
       "      <td>['physics', 'optics']</td>\n",
       "    </tr>\n",
       "    <tr>\n",
       "      <th>2</th>\n",
       "      <td>704.0479</td>\n",
       "      <td>The affine part of the Picard scheme</td>\n",
       "      <td>['math', 'AG']</td>\n",
       "    </tr>\n",
       "    <tr>\n",
       "      <th>3</th>\n",
       "      <td>704.1476</td>\n",
       "      <td>TeV-scale gravity in Horava-Witten theory on a...</td>\n",
       "      <td>['hep-th']</td>\n",
       "    </tr>\n",
       "    <tr>\n",
       "      <th>4</th>\n",
       "      <td>705.1155</td>\n",
       "      <td>State Vector Determination By A Single Trackin...</td>\n",
       "      <td>['astro-ph']</td>\n",
       "    </tr>\n",
       "  </tbody>\n",
       "</table>\n",
       "</div>"
      ],
      "text/plain": [
       "         id                                              title  \\\n",
       "0  704.0033  Convergence of the discrete dipole approximati...   \n",
       "1  704.0038  The discrete dipole approximation: an overview...   \n",
       "2  704.0479               The affine part of the Picard scheme   \n",
       "3  704.1476  TeV-scale gravity in Horava-Witten theory on a...   \n",
       "4  705.1155  State Vector Determination By A Single Trackin...   \n",
       "\n",
       "              categories  \n",
       "0  ['physics', 'optics']  \n",
       "1  ['physics', 'optics']  \n",
       "2         ['math', 'AG']  \n",
       "3             ['hep-th']  \n",
       "4           ['astro-ph']  "
      ]
     },
     "execution_count": 2,
     "metadata": {},
     "output_type": "execute_result"
    }
   ],
   "source": [
    "df = pd.read_csv('arxiv.csv')\n",
    "df.head()"
   ]
  },
  {
   "cell_type": "code",
   "execution_count": 3,
   "metadata": {},
   "outputs": [],
   "source": [
    "import spacy\n",
    "from spacy.lang.en.stop_words import STOP_WORDS\n",
    "import en_core_web_sm\n",
    "\n",
    "parser = en_core_web_sm.load()\n",
    "parser.max_length = 7000000"
   ]
  },
  {
   "cell_type": "code",
   "execution_count": 4,
   "metadata": {},
   "outputs": [],
   "source": [
    "def spacy_tokenizer(sentence):\n",
    "    mytokens = parser(sentence)\n",
    "    mytokens = [word.lemma_.lower().strip() if word.lemma_ != \"-PRON-\" else word.lower_ for word in mytokens]\n",
    "    mytokens = [word for word in mytokens if word not in stopwords and word not in punctuations]\n",
    "    mytokens = \" \".join([i for i in mytokens]) \n",
    "    return mytokens"
   ]
  },
  {
   "cell_type": "code",
   "execution_count": 5,
   "metadata": {},
   "outputs": [],
   "source": [
    "import string\n",
    "\n",
    "punctuations = string.punctuation\n",
    "stopwords = list(STOP_WORDS)"
   ]
  },
  {
   "cell_type": "code",
   "execution_count": 8,
   "metadata": {},
   "outputs": [
    {
     "name": "stderr",
     "output_type": "stream",
     "text": [
      "100%|██████████| 100000/100000 [13:40<00:00, 121.81it/s]\n"
     ]
    }
   ],
   "source": [
    "from tqdm import tqdm\n",
    "\n",
    "tqdm.pandas()\n",
    "df['processed_text'] = df['title'].progress_apply(spacy_tokenizer)"
   ]
  },
  {
   "cell_type": "code",
   "execution_count": 9,
   "metadata": {},
   "outputs": [],
   "source": [
    "def preprocess_categories(cat):\n",
    "    cat = cat.replace('[', '')\n",
    "    cat = cat.replace(']', '')\n",
    "    cat = cat.replace(\"'\", '')\n",
    "    return cat"
   ]
  },
  {
   "cell_type": "code",
   "execution_count": 10,
   "metadata": {},
   "outputs": [
    {
     "name": "stderr",
     "output_type": "stream",
     "text": [
      "100%|██████████| 100000/100000 [00:00<00:00, 466220.27it/s]\n"
     ]
    }
   ],
   "source": [
    "tqdm.pandas()\n",
    "df['processed_categories'] = df['categories'].progress_apply(preprocess_categories)"
   ]
  },
  {
   "cell_type": "code",
   "execution_count": 11,
   "metadata": {},
   "outputs": [
    {
     "data": {
      "text/html": [
       "<div>\n",
       "<style scoped>\n",
       "    .dataframe tbody tr th:only-of-type {\n",
       "        vertical-align: middle;\n",
       "    }\n",
       "\n",
       "    .dataframe tbody tr th {\n",
       "        vertical-align: top;\n",
       "    }\n",
       "\n",
       "    .dataframe thead th {\n",
       "        text-align: right;\n",
       "    }\n",
       "</style>\n",
       "<table border=\"1\" class=\"dataframe\">\n",
       "  <thead>\n",
       "    <tr style=\"text-align: right;\">\n",
       "      <th></th>\n",
       "      <th>id</th>\n",
       "      <th>title</th>\n",
       "      <th>categories</th>\n",
       "      <th>processed_text</th>\n",
       "      <th>processed_categories</th>\n",
       "      <th>concat</th>\n",
       "    </tr>\n",
       "  </thead>\n",
       "  <tbody>\n",
       "    <tr>\n",
       "      <th>0</th>\n",
       "      <td>704.0033</td>\n",
       "      <td>Convergence of the discrete dipole approximati...</td>\n",
       "      <td>['physics', 'optics']</td>\n",
       "      <td>convergence discrete dipole approximation i. t...</td>\n",
       "      <td>physics, optics</td>\n",
       "      <td>convergence discrete dipole approximation i. t...</td>\n",
       "    </tr>\n",
       "    <tr>\n",
       "      <th>1</th>\n",
       "      <td>704.0038</td>\n",
       "      <td>The discrete dipole approximation: an overview...</td>\n",
       "      <td>['physics', 'optics']</td>\n",
       "      <td>discrete dipole approximation overview recent ...</td>\n",
       "      <td>physics, optics</td>\n",
       "      <td>discrete dipole approximation overview recent ...</td>\n",
       "    </tr>\n",
       "    <tr>\n",
       "      <th>2</th>\n",
       "      <td>704.0479</td>\n",
       "      <td>The affine part of the Picard scheme</td>\n",
       "      <td>['math', 'AG']</td>\n",
       "      <td>affine picard scheme</td>\n",
       "      <td>math, AG</td>\n",
       "      <td>affine picard scheme math, AG</td>\n",
       "    </tr>\n",
       "    <tr>\n",
       "      <th>3</th>\n",
       "      <td>704.1476</td>\n",
       "      <td>TeV-scale gravity in Horava-Witten theory on a...</td>\n",
       "      <td>['hep-th']</td>\n",
       "      <td>tev scale gravity horava witten theory compact...</td>\n",
       "      <td>hep-th</td>\n",
       "      <td>tev scale gravity horava witten theory compact...</td>\n",
       "    </tr>\n",
       "    <tr>\n",
       "      <th>4</th>\n",
       "      <td>705.1155</td>\n",
       "      <td>State Vector Determination By A Single Trackin...</td>\n",
       "      <td>['astro-ph']</td>\n",
       "      <td>state vector determination single tracking sat...</td>\n",
       "      <td>astro-ph</td>\n",
       "      <td>state vector determination single tracking sat...</td>\n",
       "    </tr>\n",
       "  </tbody>\n",
       "</table>\n",
       "</div>"
      ],
      "text/plain": [
       "         id                                              title  \\\n",
       "0  704.0033  Convergence of the discrete dipole approximati...   \n",
       "1  704.0038  The discrete dipole approximation: an overview...   \n",
       "2  704.0479               The affine part of the Picard scheme   \n",
       "3  704.1476  TeV-scale gravity in Horava-Witten theory on a...   \n",
       "4  705.1155  State Vector Determination By A Single Trackin...   \n",
       "\n",
       "              categories                                     processed_text  \\\n",
       "0  ['physics', 'optics']  convergence discrete dipole approximation i. t...   \n",
       "1  ['physics', 'optics']  discrete dipole approximation overview recent ...   \n",
       "2         ['math', 'AG']                               affine picard scheme   \n",
       "3             ['hep-th']  tev scale gravity horava witten theory compact...   \n",
       "4           ['astro-ph']  state vector determination single tracking sat...   \n",
       "\n",
       "  processed_categories                                             concat  \n",
       "0      physics, optics  convergence discrete dipole approximation i. t...  \n",
       "1      physics, optics  discrete dipole approximation overview recent ...  \n",
       "2             math, AG                      affine picard scheme math, AG  \n",
       "3               hep-th  tev scale gravity horava witten theory compact...  \n",
       "4             astro-ph  state vector determination single tracking sat...  "
      ]
     },
     "execution_count": 11,
     "metadata": {},
     "output_type": "execute_result"
    }
   ],
   "source": [
    "df['concat'] = df['processed_text'] + ' ' + df['processed_categories']\n",
    "df.head()"
   ]
  },
  {
   "cell_type": "code",
   "execution_count": 22,
   "metadata": {},
   "outputs": [],
   "source": [
    "from gensim.models.doc2vec import Doc2Vec, TaggedDocument\n",
    "\n",
    "card_docs = [TaggedDocument(doc.split(' '), [i]) for i, doc in enumerate(df.concat)]"
   ]
  },
  {
   "cell_type": "code",
   "execution_count": 24,
   "metadata": {},
   "outputs": [],
   "source": [
    "model = Doc2Vec(vector_size=64, min_count=1, epochs=20)\n",
    "model.build_vocab(card_docs)"
   ]
  },
  {
   "cell_type": "code",
   "execution_count": 26,
   "metadata": {},
   "outputs": [],
   "source": [
    "model.train(card_docs, total_examples=model.corpus_count, epochs=model.epochs)"
   ]
  },
  {
   "cell_type": "code",
   "execution_count": 29,
   "metadata": {},
   "outputs": [],
   "source": [
    "card2vec = [model.infer_vector((df['concat'][i].split(' '))) for i in range(0,len(df['concat']))]"
   ]
  },
  {
   "cell_type": "code",
   "execution_count": 31,
   "metadata": {},
   "outputs": [
    {
     "data": {
      "text/html": [
       "<div>\n",
       "<style scoped>\n",
       "    .dataframe tbody tr th:only-of-type {\n",
       "        vertical-align: middle;\n",
       "    }\n",
       "\n",
       "    .dataframe tbody tr th {\n",
       "        vertical-align: top;\n",
       "    }\n",
       "\n",
       "    .dataframe thead th {\n",
       "        text-align: right;\n",
       "    }\n",
       "</style>\n",
       "<table border=\"1\" class=\"dataframe\">\n",
       "  <thead>\n",
       "    <tr style=\"text-align: right;\">\n",
       "      <th></th>\n",
       "      <th>id</th>\n",
       "      <th>title</th>\n",
       "      <th>categories</th>\n",
       "      <th>processed_text</th>\n",
       "      <th>processed_categories</th>\n",
       "      <th>concat</th>\n",
       "      <th>vec</th>\n",
       "    </tr>\n",
       "  </thead>\n",
       "  <tbody>\n",
       "    <tr>\n",
       "      <th>0</th>\n",
       "      <td>704.0033</td>\n",
       "      <td>Convergence of the discrete dipole approximati...</td>\n",
       "      <td>['physics', 'optics']</td>\n",
       "      <td>convergence discrete dipole approximation i. t...</td>\n",
       "      <td>physics, optics</td>\n",
       "      <td>convergence discrete dipole approximation i. t...</td>\n",
       "      <td>[0.1269778460264206, 0.0676768496632576, -0.09...</td>\n",
       "    </tr>\n",
       "    <tr>\n",
       "      <th>1</th>\n",
       "      <td>704.0038</td>\n",
       "      <td>The discrete dipole approximation: an overview...</td>\n",
       "      <td>['physics', 'optics']</td>\n",
       "      <td>discrete dipole approximation overview recent ...</td>\n",
       "      <td>physics, optics</td>\n",
       "      <td>discrete dipole approximation overview recent ...</td>\n",
       "      <td>[0.14317379891872406, -0.04152209311723709, -0...</td>\n",
       "    </tr>\n",
       "    <tr>\n",
       "      <th>2</th>\n",
       "      <td>704.0479</td>\n",
       "      <td>The affine part of the Picard scheme</td>\n",
       "      <td>['math', 'AG']</td>\n",
       "      <td>affine picard scheme</td>\n",
       "      <td>math, AG</td>\n",
       "      <td>affine picard scheme math, AG</td>\n",
       "      <td>[0.030805379152297974, -0.06239623948931694, -...</td>\n",
       "    </tr>\n",
       "    <tr>\n",
       "      <th>3</th>\n",
       "      <td>704.1476</td>\n",
       "      <td>TeV-scale gravity in Horava-Witten theory on a...</td>\n",
       "      <td>['hep-th']</td>\n",
       "      <td>tev scale gravity horava witten theory compact...</td>\n",
       "      <td>hep-th</td>\n",
       "      <td>tev scale gravity horava witten theory compact...</td>\n",
       "      <td>[-0.1107976958155632, 0.044458262622356415, -0...</td>\n",
       "    </tr>\n",
       "    <tr>\n",
       "      <th>4</th>\n",
       "      <td>705.1155</td>\n",
       "      <td>State Vector Determination By A Single Trackin...</td>\n",
       "      <td>['astro-ph']</td>\n",
       "      <td>state vector determination single tracking sat...</td>\n",
       "      <td>astro-ph</td>\n",
       "      <td>state vector determination single tracking sat...</td>\n",
       "      <td>[-0.1546483188867569, 0.19419126212596893, 0.0...</td>\n",
       "    </tr>\n",
       "  </tbody>\n",
       "</table>\n",
       "</div>"
      ],
      "text/plain": [
       "         id                                              title  \\\n",
       "0  704.0033  Convergence of the discrete dipole approximati...   \n",
       "1  704.0038  The discrete dipole approximation: an overview...   \n",
       "2  704.0479               The affine part of the Picard scheme   \n",
       "3  704.1476  TeV-scale gravity in Horava-Witten theory on a...   \n",
       "4  705.1155  State Vector Determination By A Single Trackin...   \n",
       "\n",
       "              categories                                     processed_text  \\\n",
       "0  ['physics', 'optics']  convergence discrete dipole approximation i. t...   \n",
       "1  ['physics', 'optics']  discrete dipole approximation overview recent ...   \n",
       "2         ['math', 'AG']                               affine picard scheme   \n",
       "3             ['hep-th']  tev scale gravity horava witten theory compact...   \n",
       "4           ['astro-ph']  state vector determination single tracking sat...   \n",
       "\n",
       "  processed_categories                                             concat  \\\n",
       "0      physics, optics  convergence discrete dipole approximation i. t...   \n",
       "1      physics, optics  discrete dipole approximation overview recent ...   \n",
       "2             math, AG                      affine picard scheme math, AG   \n",
       "3               hep-th  tev scale gravity horava witten theory compact...   \n",
       "4             astro-ph  state vector determination single tracking sat...   \n",
       "\n",
       "                                                 vec  \n",
       "0  [0.1269778460264206, 0.0676768496632576, -0.09...  \n",
       "1  [0.14317379891872406, -0.04152209311723709, -0...  \n",
       "2  [0.030805379152297974, -0.06239623948931694, -...  \n",
       "3  [-0.1107976958155632, 0.044458262622356415, -0...  \n",
       "4  [-0.1546483188867569, 0.19419126212596893, 0.0...  "
      ]
     },
     "execution_count": 31,
     "metadata": {},
     "output_type": "execute_result"
    }
   ],
   "source": [
    "import numpy as np\n",
    "\n",
    "dtv = np.array(card2vec).tolist()\n",
    "df['vec'] = dtv\n",
    "df.head()"
   ]
  },
  {
   "cell_type": "code",
   "execution_count": 32,
   "metadata": {},
   "outputs": [],
   "source": [
    "df.to_csv('arxiv_vectors.zip', index=False) "
   ]
  },
  {
   "cell_type": "code",
   "execution_count": null,
   "metadata": {},
   "outputs": [],
   "source": []
  }
 ],
 "metadata": {
  "kernelspec": {
   "display_name": "Python 3",
   "language": "python",
   "name": "python3"
  },
  "language_info": {
   "codemirror_mode": {
    "name": "ipython",
    "version": 3
   },
   "file_extension": ".py",
   "mimetype": "text/x-python",
   "name": "python",
   "nbconvert_exporter": "python",
   "pygments_lexer": "ipython3",
   "version": "3.7.4"
  }
 },
 "nbformat": 4,
 "nbformat_minor": 2
}
