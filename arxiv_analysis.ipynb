{
 "cells": [
  {
   "cell_type": "code",
   "execution_count": 52,
   "metadata": {},
   "outputs": [],
   "source": [
    "import numpy as np\n",
    "import pandas as pd\n",
    "import json"
   ]
  },
  {
   "cell_type": "code",
   "execution_count": 15,
   "metadata": {},
   "outputs": [],
   "source": [
    "def get_metadata():\n",
    "    with open('arxiv-metadata-oai-snapshot.json', 'r') as f:\n",
    "        for line in f:\n",
    "            yield line"
   ]
  },
  {
   "cell_type": "code",
   "execution_count": 122,
   "metadata": {},
   "outputs": [],
   "source": [
    "arxiv_data = get_metadata()"
   ]
  },
  {
   "cell_type": "code",
   "execution_count": 125,
   "metadata": {},
   "outputs": [
    {
     "name": "stdout",
     "output_type": "stream",
     "text": [
      "id : 0704.0003\n",
      "submitter : Hongjun Pan\n",
      "authors : Hongjun Pan\n",
      "title : The evolution of the Earth-Moon system based on the dark matter field\n",
      "  fluid model\n",
      "comments : 23 pages, 3 figures\n",
      "journal-ref : None\n",
      "doi : None\n",
      "report-no : None\n",
      "categories : physics.gen-ph\n",
      "license : None\n",
      "abstract :   The evolution of Earth-Moon system is described by the dark matter field\n",
      "fluid model proposed in the Meeting of Division of Particle and Field 2004,\n",
      "American Physical Society. The current behavior of the Earth-Moon system agrees\n",
      "with this model very well and the general pattern of the evolution of the\n",
      "Moon-Earth system described by this model agrees with geological and fossil\n",
      "evidence. The closest distance of the Moon to Earth was about 259000 km at 4.5\n",
      "billion years ago, which is far beyond the Roche's limit. The result suggests\n",
      "that the tidal friction may not be the primary cause for the evolution of the\n",
      "Earth-Moon system. The average dark matter field fluid constant derived from\n",
      "Earth-Moon system data is 4.39 x 10^(-22) s^(-1)m^(-1). This model predicts\n",
      "that the Mars's rotation is also slowing with the angular acceleration rate\n",
      "about -4.38 x 10^(-22) rad s^(-2).\n",
      "\n",
      "versions : [{'version': 'v1', 'created': 'Sun, 1 Apr 2007 20:46:54 GMT'}, {'version': 'v2', 'created': 'Sat, 8 Dec 2007 23:47:24 GMT'}, {'version': 'v3', 'created': 'Sun, 13 Jan 2008 00:36:28 GMT'}]\n",
      "update_date : 2008-01-13\n",
      "authors_parsed : [['Pan', 'Hongjun', '']]\n"
     ]
    }
   ],
   "source": [
    "for paper in arxiv_data:\n",
    "    paper_dict = json.loads(paper)\n",
    "    for i in paper_dict:\n",
    "        print(i, ':', paper_dict[i])\n",
    "    break"
   ]
  },
  {
   "cell_type": "code",
   "execution_count": 49,
   "metadata": {},
   "outputs": [],
   "source": [
    "titles = []\n",
    "categories = []\n",
    "ids = []\n",
    "\n",
    "for paper in arxiv_data:\n",
    "    paper_dict = json.loads(paper)\n",
    "    try:\n",
    "        year = int(paper_dict.get('versions')[-1]['created'].split(' ')[3])\n",
    "        if 2020 < year < 2023:\n",
    "            categories.append(paper_dict.get('categories'))\n",
    "            titles.append(paper_dict.get('title'))\n",
    "            ids.append(paper_dict.get('id'))\n",
    "    except:\n",
    "        pass "
   ]
  },
  {
   "cell_type": "code",
   "execution_count": 149,
   "metadata": {},
   "outputs": [
    {
     "data": {
      "text/html": [
       "<div>\n",
       "<style scoped>\n",
       "    .dataframe tbody tr th:only-of-type {\n",
       "        vertical-align: middle;\n",
       "    }\n",
       "\n",
       "    .dataframe tbody tr th {\n",
       "        vertical-align: top;\n",
       "    }\n",
       "\n",
       "    .dataframe thead th {\n",
       "        text-align: right;\n",
       "    }\n",
       "</style>\n",
       "<table border=\"1\" class=\"dataframe\">\n",
       "  <thead>\n",
       "    <tr style=\"text-align: right;\">\n",
       "      <th></th>\n",
       "      <th>id</th>\n",
       "      <th>title</th>\n",
       "      <th>categories</th>\n",
       "    </tr>\n",
       "  </thead>\n",
       "  <tbody>\n",
       "    <tr>\n",
       "      <th>0</th>\n",
       "      <td>0704.0033</td>\n",
       "      <td>Convergence of the discrete dipole approximati...</td>\n",
       "      <td>[physics, optics]</td>\n",
       "    </tr>\n",
       "    <tr>\n",
       "      <th>1</th>\n",
       "      <td>0704.0038</td>\n",
       "      <td>The discrete dipole approximation: an overview...</td>\n",
       "      <td>[physics, optics]</td>\n",
       "    </tr>\n",
       "    <tr>\n",
       "      <th>2</th>\n",
       "      <td>0704.0479</td>\n",
       "      <td>The affine part of the Picard scheme</td>\n",
       "      <td>[math, AG]</td>\n",
       "    </tr>\n",
       "    <tr>\n",
       "      <th>3</th>\n",
       "      <td>0704.1476</td>\n",
       "      <td>TeV-scale gravity in Horava-Witten theory on a...</td>\n",
       "      <td>[hep-th]</td>\n",
       "    </tr>\n",
       "    <tr>\n",
       "      <th>4</th>\n",
       "      <td>0705.1155</td>\n",
       "      <td>State Vector Determination By A Single Trackin...</td>\n",
       "      <td>[astro-ph]</td>\n",
       "    </tr>\n",
       "  </tbody>\n",
       "</table>\n",
       "</div>"
      ],
      "text/plain": [
       "          id                                              title  \\\n",
       "0  0704.0033  Convergence of the discrete dipole approximati...   \n",
       "1  0704.0038  The discrete dipole approximation: an overview...   \n",
       "2  0704.0479               The affine part of the Picard scheme   \n",
       "3  0704.1476  TeV-scale gravity in Horava-Witten theory on a...   \n",
       "4  0705.1155  State Vector Determination By A Single Trackin...   \n",
       "\n",
       "          categories  \n",
       "0  [physics, optics]  \n",
       "1  [physics, optics]  \n",
       "2         [math, AG]  \n",
       "3           [hep-th]  \n",
       "4         [astro-ph]  "
      ]
     },
     "execution_count": 149,
     "metadata": {},
     "output_type": "execute_result"
    }
   ],
   "source": [
    "df = pd.DataFrame({\n",
    "    'id': ids,\n",
    "    'title': titles,\n",
    "    'categories': [i.split(' ') for i in categories]\n",
    "})\n",
    "\n",
    "df['categories'] = df['categories'].apply(lambda x: x[0].split('.'))\n",
    "\n",
    "df.head()"
   ]
  },
  {
   "cell_type": "code",
   "execution_count": 150,
   "metadata": {},
   "outputs": [
    {
     "data": {
      "text/plain": [
       "401806"
      ]
     },
     "execution_count": 150,
     "metadata": {},
     "output_type": "execute_result"
    }
   ],
   "source": [
    "len(df)"
   ]
  },
  {
   "cell_type": "code",
   "execution_count": 95,
   "metadata": {},
   "outputs": [],
   "source": [
    "all_categories = list()\n",
    "for article in df.categories:\n",
    "    for category in article:\n",
    "        all_categories.append(category)"
   ]
  },
  {
   "cell_type": "code",
   "execution_count": 97,
   "metadata": {},
   "outputs": [],
   "source": [
    "all_categories = [x.split('.')[0] for x in all_categories]"
   ]
  },
  {
   "cell_type": "code",
   "execution_count": 112,
   "metadata": {},
   "outputs": [
    {
     "data": {
      "text/plain": [
       "21"
      ]
     },
     "execution_count": 112,
     "metadata": {},
     "output_type": "execute_result"
    }
   ],
   "source": [
    "len(set(all_categories))"
   ]
  },
  {
   "cell_type": "code",
   "execution_count": 119,
   "metadata": {},
   "outputs": [
    {
     "data": {
      "image/png": "[encoded data removed]",
      "text/plain": [
       "<Figure size 720x432 with 1 Axes>"
      ]
     },
     "metadata": {
      "needs_background": "light"
     },
     "output_type": "display_data"
    }
   ],
   "source": [
    "from collections import Counter\n",
    "\n",
    "plt.figure(figsize=(10,6))\n",
    "c = Counter(all_categories)\n",
    "plt.xticks(rotation=45)\n",
    "plt.title('Распределение категорий')\n",
    "plt.xlabel('Категории')\n",
    "plt.ylabel('Количество')\n",
    "plt.bar(c.keys(), c.values(), color = \"skyblue\")\n",
    "plt.show()"
   ]
  },
  {
   "cell_type": "code",
   "execution_count": 158,
   "metadata": {},
   "outputs": [],
   "source": [
    "df.to_csv('arxiv.csv', index=False)  "
   ]
  },
  {
   "cell_type": "code",
   "execution_count": null,
   "metadata": {},
   "outputs": [],
   "source": []
  }
 ],
 "metadata": {
  "kernelspec": {
   "display_name": "Python 3",
   "language": "python",
   "name": "python3"
  },
  "language_info": {
   "codemirror_mode": {
    "name": "ipython",
    "version": 3
   },
   "file_extension": ".py",
   "mimetype": "text/x-python",
   "name": "python",
   "nbconvert_exporter": "python",
   "pygments_lexer": "ipython3",
   "version": "3.7.4"
  }
 },
 "nbformat": 4,
 "nbformat_minor": 2
}
