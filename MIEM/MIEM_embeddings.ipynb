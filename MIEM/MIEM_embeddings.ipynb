{
 "cells": [
  {
   "cell_type": "code",
   "execution_count": 1,
   "metadata": {},
   "outputs": [],
   "source": [
    "import pandas as pd"
   ]
  },
  {
   "cell_type": "code",
   "execution_count": 4,
   "metadata": {},
   "outputs": [
    {
     "data": {
      "text/html": [
       "<div>\n",
       "<style scoped>\n",
       "    .dataframe tbody tr th:only-of-type {\n",
       "        vertical-align: middle;\n",
       "    }\n",
       "\n",
       "    .dataframe tbody tr th {\n",
       "        vertical-align: top;\n",
       "    }\n",
       "\n",
       "    .dataframe thead th {\n",
       "        text-align: right;\n",
       "    }\n",
       "</style>\n",
       "<table border=\"1\" class=\"dataframe\">\n",
       "  <thead>\n",
       "    <tr style=\"text-align: right;\">\n",
       "      <th></th>\n",
       "      <th>number</th>\n",
       "      <th>title</th>\n",
       "      <th>type</th>\n",
       "    </tr>\n",
       "  </thead>\n",
       "  <tbody>\n",
       "    <tr>\n",
       "      <th>0</th>\n",
       "      <td>1.0</td>\n",
       "      <td>Изучение транспорта заряженных коллоидных част...</td>\n",
       "      <td>НИР</td>\n",
       "    </tr>\n",
       "    <tr>\n",
       "      <th>1</th>\n",
       "      <td>2.0</td>\n",
       "      <td>Изучение конвекции Марангони и транспорта колл...</td>\n",
       "      <td>НИР</td>\n",
       "    </tr>\n",
       "    <tr>\n",
       "      <th>2</th>\n",
       "      <td>3.0</td>\n",
       "      <td>Разработка программного комплекса решения эндш...</td>\n",
       "      <td>НИР</td>\n",
       "    </tr>\n",
       "    <tr>\n",
       "      <th>3</th>\n",
       "      <td>4.0</td>\n",
       "      <td>Программа объединения точек платежей для проти...</td>\n",
       "      <td>Прогр.</td>\n",
       "    </tr>\n",
       "    <tr>\n",
       "      <th>4</th>\n",
       "      <td>5.0</td>\n",
       "      <td>Антифрод (antifraud)</td>\n",
       "      <td>Прогр.</td>\n",
       "    </tr>\n",
       "  </tbody>\n",
       "</table>\n",
       "</div>"
      ],
      "text/plain": [
       "   number                                              title    type\n",
       "0     1.0  Изучение транспорта заряженных коллоидных част...     НИР\n",
       "1     2.0  Изучение конвекции Марангони и транспорта колл...     НИР\n",
       "2     3.0  Разработка программного комплекса решения эндш...     НИР\n",
       "3     4.0  Программа объединения точек платежей для проти...  Прогр.\n",
       "4     5.0                               Антифрод (antifraud)  Прогр."
      ]
     },
     "execution_count": 4,
     "metadata": {},
     "output_type": "execute_result"
    }
   ],
   "source": [
    "df = pd.read_csv('MIEM.csv')\n",
    "df.head()"
   ]
  },
  {
   "cell_type": "code",
   "execution_count": 7,
   "metadata": {},
   "outputs": [
    {
     "name": "stderr",
     "output_type": "stream",
     "text": [
      "[nltk_data] Downloading package stopwords to\n",
      "[nltk_data]     /Users/anastasiaibaeva/nltk_data...\n",
      "[nltk_data]   Package stopwords is already up-to-date!\n"
     ]
    }
   ],
   "source": [
    "import nltk\n",
    "nltk.download(\"stopwords\")\n",
    "from nltk.corpus import stopwords\n",
    "\n",
    "russian_stopwords = stopwords.words(\"russian\")"
   ]
  },
  {
   "cell_type": "code",
   "execution_count": 9,
   "metadata": {},
   "outputs": [],
   "source": [
    "from pymystem3 import Mystem\n",
    "mystem = Mystem() "
   ]
  },
  {
   "cell_type": "code",
   "execution_count": 18,
   "metadata": {},
   "outputs": [],
   "source": [
    "import string\n",
    "\n",
    "punctuation = string.punctuation"
   ]
  },
  {
   "cell_type": "code",
   "execution_count": 19,
   "metadata": {},
   "outputs": [],
   "source": [
    "def preprocess_text(text):\n",
    "    tokens = mystem.lemmatize(text.lower())\n",
    "    tokens = [token for token in tokens if token not in russian_stopwords\\\n",
    "              and token != \" \" \\\n",
    "              and token.strip() not in punctuation]\n",
    "    \n",
    "    text = \" \".join(tokens)\n",
    "    \n",
    "    return text"
   ]
  },
  {
   "cell_type": "code",
   "execution_count": 20,
   "metadata": {},
   "outputs": [
    {
     "name": "stderr",
     "output_type": "stream",
     "text": [
      "100%|██████████| 253/253 [00:00<00:00, 1294.79it/s]\n"
     ]
    }
   ],
   "source": [
    "from tqdm import tqdm\n",
    "\n",
    "tqdm.pandas()\n",
    "df['processed'] = df['title'].progress_apply(preprocess_text)"
   ]
  },
  {
   "cell_type": "code",
   "execution_count": 21,
   "metadata": {},
   "outputs": [
    {
     "data": {
      "text/html": [
       "<div>\n",
       "<style scoped>\n",
       "    .dataframe tbody tr th:only-of-type {\n",
       "        vertical-align: middle;\n",
       "    }\n",
       "\n",
       "    .dataframe tbody tr th {\n",
       "        vertical-align: top;\n",
       "    }\n",
       "\n",
       "    .dataframe thead th {\n",
       "        text-align: right;\n",
       "    }\n",
       "</style>\n",
       "<table border=\"1\" class=\"dataframe\">\n",
       "  <thead>\n",
       "    <tr style=\"text-align: right;\">\n",
       "      <th></th>\n",
       "      <th>number</th>\n",
       "      <th>title</th>\n",
       "      <th>type</th>\n",
       "      <th>processed</th>\n",
       "    </tr>\n",
       "  </thead>\n",
       "  <tbody>\n",
       "    <tr>\n",
       "      <th>0</th>\n",
       "      <td>1.0</td>\n",
       "      <td>Изучение транспорта заряженных коллоидных част...</td>\n",
       "      <td>НИР</td>\n",
       "      <td>изучение транспорт заряжать коллоидный частица...</td>\n",
       "    </tr>\n",
       "    <tr>\n",
       "      <th>1</th>\n",
       "      <td>2.0</td>\n",
       "      <td>Изучение конвекции Марангони и транспорта колл...</td>\n",
       "      <td>НИР</td>\n",
       "      <td>изучение конвекция марангонь транспорт коллоид...</td>\n",
       "    </tr>\n",
       "    <tr>\n",
       "      <th>2</th>\n",
       "      <td>3.0</td>\n",
       "      <td>Разработка программного комплекса решения эндш...</td>\n",
       "      <td>НИР</td>\n",
       "      <td>разработка программный комплекс решение эндшпи...</td>\n",
       "    </tr>\n",
       "    <tr>\n",
       "      <th>3</th>\n",
       "      <td>4.0</td>\n",
       "      <td>Программа объединения точек платежей для проти...</td>\n",
       "      <td>Прогр.</td>\n",
       "      <td>программа объединение точка платеж противодейс...</td>\n",
       "    </tr>\n",
       "    <tr>\n",
       "      <th>4</th>\n",
       "      <td>5.0</td>\n",
       "      <td>Антифрод (antifraud)</td>\n",
       "      <td>Прогр.</td>\n",
       "      <td>антифрод antifraud</td>\n",
       "    </tr>\n",
       "  </tbody>\n",
       "</table>\n",
       "</div>"
      ],
      "text/plain": [
       "   number                                              title    type  \\\n",
       "0     1.0  Изучение транспорта заряженных коллоидных част...     НИР   \n",
       "1     2.0  Изучение конвекции Марангони и транспорта колл...     НИР   \n",
       "2     3.0  Разработка программного комплекса решения эндш...     НИР   \n",
       "3     4.0  Программа объединения точек платежей для проти...  Прогр.   \n",
       "4     5.0                               Антифрод (antifraud)  Прогр.   \n",
       "\n",
       "                                           processed  \n",
       "0  изучение транспорт заряжать коллоидный частица...  \n",
       "1  изучение конвекция марангонь транспорт коллоид...  \n",
       "2  разработка программный комплекс решение эндшпи...  \n",
       "3  программа объединение точка платеж противодейс...  \n",
       "4                                 антифрод antifraud  "
      ]
     },
     "execution_count": 21,
     "metadata": {},
     "output_type": "execute_result"
    }
   ],
   "source": [
    "df.head()"
   ]
  },
  {
   "cell_type": "code",
   "execution_count": 22,
   "metadata": {},
   "outputs": [
    {
     "data": {
      "text/html": [
       "<div>\n",
       "<style scoped>\n",
       "    .dataframe tbody tr th:only-of-type {\n",
       "        vertical-align: middle;\n",
       "    }\n",
       "\n",
       "    .dataframe tbody tr th {\n",
       "        vertical-align: top;\n",
       "    }\n",
       "\n",
       "    .dataframe thead th {\n",
       "        text-align: right;\n",
       "    }\n",
       "</style>\n",
       "<table border=\"1\" class=\"dataframe\">\n",
       "  <thead>\n",
       "    <tr style=\"text-align: right;\">\n",
       "      <th></th>\n",
       "      <th>number</th>\n",
       "      <th>title</th>\n",
       "      <th>type</th>\n",
       "      <th>processed</th>\n",
       "      <th>concat</th>\n",
       "    </tr>\n",
       "  </thead>\n",
       "  <tbody>\n",
       "    <tr>\n",
       "      <th>0</th>\n",
       "      <td>1.0</td>\n",
       "      <td>Изучение транспорта заряженных коллоидных част...</td>\n",
       "      <td>НИР</td>\n",
       "      <td>изучение транспорт заряжать коллоидный частица...</td>\n",
       "      <td>изучение транспорт заряжать коллоидный частица...</td>\n",
       "    </tr>\n",
       "    <tr>\n",
       "      <th>1</th>\n",
       "      <td>2.0</td>\n",
       "      <td>Изучение конвекции Марангони и транспорта колл...</td>\n",
       "      <td>НИР</td>\n",
       "      <td>изучение конвекция марангонь транспорт коллоид...</td>\n",
       "      <td>изучение конвекция марангонь транспорт коллоид...</td>\n",
       "    </tr>\n",
       "    <tr>\n",
       "      <th>2</th>\n",
       "      <td>3.0</td>\n",
       "      <td>Разработка программного комплекса решения эндш...</td>\n",
       "      <td>НИР</td>\n",
       "      <td>разработка программный комплекс решение эндшпи...</td>\n",
       "      <td>разработка программный комплекс решение эндшпи...</td>\n",
       "    </tr>\n",
       "    <tr>\n",
       "      <th>3</th>\n",
       "      <td>4.0</td>\n",
       "      <td>Программа объединения точек платежей для проти...</td>\n",
       "      <td>Прогр.</td>\n",
       "      <td>программа объединение точка платеж противодейс...</td>\n",
       "      <td>программа объединение точка платеж противодейс...</td>\n",
       "    </tr>\n",
       "    <tr>\n",
       "      <th>4</th>\n",
       "      <td>5.0</td>\n",
       "      <td>Антифрод (antifraud)</td>\n",
       "      <td>Прогр.</td>\n",
       "      <td>антифрод antifraud</td>\n",
       "      <td>антифрод antifraud Прогр.</td>\n",
       "    </tr>\n",
       "  </tbody>\n",
       "</table>\n",
       "</div>"
      ],
      "text/plain": [
       "   number                                              title    type  \\\n",
       "0     1.0  Изучение транспорта заряженных коллоидных част...     НИР   \n",
       "1     2.0  Изучение конвекции Марангони и транспорта колл...     НИР   \n",
       "2     3.0  Разработка программного комплекса решения эндш...     НИР   \n",
       "3     4.0  Программа объединения точек платежей для проти...  Прогр.   \n",
       "4     5.0                               Антифрод (antifraud)  Прогр.   \n",
       "\n",
       "                                           processed  \\\n",
       "0  изучение транспорт заряжать коллоидный частица...   \n",
       "1  изучение конвекция марангонь транспорт коллоид...   \n",
       "2  разработка программный комплекс решение эндшпи...   \n",
       "3  программа объединение точка платеж противодейс...   \n",
       "4                                 антифрод antifraud   \n",
       "\n",
       "                                              concat  \n",
       "0  изучение транспорт заряжать коллоидный частица...  \n",
       "1  изучение конвекция марангонь транспорт коллоид...  \n",
       "2  разработка программный комплекс решение эндшпи...  \n",
       "3  программа объединение точка платеж противодейс...  \n",
       "4                          антифрод antifraud Прогр.  "
      ]
     },
     "execution_count": 22,
     "metadata": {},
     "output_type": "execute_result"
    }
   ],
   "source": [
    "df['concat'] = df['processed'] + ' ' + df['type']\n",
    "df.head()"
   ]
  },
  {
   "cell_type": "code",
   "execution_count": 24,
   "metadata": {},
   "outputs": [],
   "source": [
    "from gensim.models.doc2vec import Doc2Vec, TaggedDocument\n",
    "\n",
    "card_docs = [TaggedDocument(doc.split(' '), [i]) for i, doc in enumerate(df.concat)]"
   ]
  },
  {
   "cell_type": "code",
   "execution_count": 25,
   "metadata": {},
   "outputs": [],
   "source": [
    "model = Doc2Vec(vector_size=64, min_count=1, epochs=20)\n",
    "model.build_vocab(card_docs)"
   ]
  },
  {
   "cell_type": "code",
   "execution_count": 26,
   "metadata": {},
   "outputs": [],
   "source": [
    "model.train(card_docs, total_examples=model.corpus_count, epochs=model.epochs)"
   ]
  },
  {
   "cell_type": "code",
   "execution_count": 27,
   "metadata": {},
   "outputs": [],
   "source": [
    "card2vec = [model.infer_vector((df['concat'][i].split(' '))) for i in range(0,len(df['concat']))]"
   ]
  },
  {
   "cell_type": "code",
   "execution_count": 28,
   "metadata": {},
   "outputs": [
    {
     "data": {
      "text/html": [
       "<div>\n",
       "<style scoped>\n",
       "    .dataframe tbody tr th:only-of-type {\n",
       "        vertical-align: middle;\n",
       "    }\n",
       "\n",
       "    .dataframe tbody tr th {\n",
       "        vertical-align: top;\n",
       "    }\n",
       "\n",
       "    .dataframe thead th {\n",
       "        text-align: right;\n",
       "    }\n",
       "</style>\n",
       "<table border=\"1\" class=\"dataframe\">\n",
       "  <thead>\n",
       "    <tr style=\"text-align: right;\">\n",
       "      <th></th>\n",
       "      <th>number</th>\n",
       "      <th>title</th>\n",
       "      <th>type</th>\n",
       "      <th>processed</th>\n",
       "      <th>concat</th>\n",
       "      <th>vec</th>\n",
       "    </tr>\n",
       "  </thead>\n",
       "  <tbody>\n",
       "    <tr>\n",
       "      <th>0</th>\n",
       "      <td>1.0</td>\n",
       "      <td>Изучение транспорта заряженных коллоидных част...</td>\n",
       "      <td>НИР</td>\n",
       "      <td>изучение транспорт заряжать коллоидный частица...</td>\n",
       "      <td>изучение транспорт заряжать коллоидный частица...</td>\n",
       "      <td>[-0.0070869713090360165, -0.013778778724372387...</td>\n",
       "    </tr>\n",
       "    <tr>\n",
       "      <th>1</th>\n",
       "      <td>2.0</td>\n",
       "      <td>Изучение конвекции Марангони и транспорта колл...</td>\n",
       "      <td>НИР</td>\n",
       "      <td>изучение конвекция марангонь транспорт коллоид...</td>\n",
       "      <td>изучение конвекция марангонь транспорт коллоид...</td>\n",
       "      <td>[-0.010782599449157715, -0.022596212103962898,...</td>\n",
       "    </tr>\n",
       "    <tr>\n",
       "      <th>2</th>\n",
       "      <td>3.0</td>\n",
       "      <td>Разработка программного комплекса решения эндш...</td>\n",
       "      <td>НИР</td>\n",
       "      <td>разработка программный комплекс решение эндшпи...</td>\n",
       "      <td>разработка программный комплекс решение эндшпи...</td>\n",
       "      <td>[-0.005868301726877689, -0.01714327372610569, ...</td>\n",
       "    </tr>\n",
       "    <tr>\n",
       "      <th>3</th>\n",
       "      <td>4.0</td>\n",
       "      <td>Программа объединения точек платежей для проти...</td>\n",
       "      <td>Прогр.</td>\n",
       "      <td>программа объединение точка платеж противодейс...</td>\n",
       "      <td>программа объединение точка платеж противодейс...</td>\n",
       "      <td>[-0.00847938284277916, -0.006686461623758078, ...</td>\n",
       "    </tr>\n",
       "    <tr>\n",
       "      <th>4</th>\n",
       "      <td>5.0</td>\n",
       "      <td>Антифрод (antifraud)</td>\n",
       "      <td>Прогр.</td>\n",
       "      <td>антифрод antifraud</td>\n",
       "      <td>антифрод antifraud Прогр.</td>\n",
       "      <td>[-0.008986253291368484, 0.002366742817685008, ...</td>\n",
       "    </tr>\n",
       "  </tbody>\n",
       "</table>\n",
       "</div>"
      ],
      "text/plain": [
       "   number                                              title    type  \\\n",
       "0     1.0  Изучение транспорта заряженных коллоидных част...     НИР   \n",
       "1     2.0  Изучение конвекции Марангони и транспорта колл...     НИР   \n",
       "2     3.0  Разработка программного комплекса решения эндш...     НИР   \n",
       "3     4.0  Программа объединения точек платежей для проти...  Прогр.   \n",
       "4     5.0                               Антифрод (antifraud)  Прогр.   \n",
       "\n",
       "                                           processed  \\\n",
       "0  изучение транспорт заряжать коллоидный частица...   \n",
       "1  изучение конвекция марангонь транспорт коллоид...   \n",
       "2  разработка программный комплекс решение эндшпи...   \n",
       "3  программа объединение точка платеж противодейс...   \n",
       "4                                 антифрод antifraud   \n",
       "\n",
       "                                              concat  \\\n",
       "0  изучение транспорт заряжать коллоидный частица...   \n",
       "1  изучение конвекция марангонь транспорт коллоид...   \n",
       "2  разработка программный комплекс решение эндшпи...   \n",
       "3  программа объединение точка платеж противодейс...   \n",
       "4                          антифрод antifraud Прогр.   \n",
       "\n",
       "                                                 vec  \n",
       "0  [-0.0070869713090360165, -0.013778778724372387...  \n",
       "1  [-0.010782599449157715, -0.022596212103962898,...  \n",
       "2  [-0.005868301726877689, -0.01714327372610569, ...  \n",
       "3  [-0.00847938284277916, -0.006686461623758078, ...  \n",
       "4  [-0.008986253291368484, 0.002366742817685008, ...  "
      ]
     },
     "execution_count": 28,
     "metadata": {},
     "output_type": "execute_result"
    }
   ],
   "source": [
    "import numpy as np\n",
    "\n",
    "dtv = np.array(card2vec).tolist()\n",
    "df['vec'] = dtv\n",
    "df.head()"
   ]
  },
  {
   "cell_type": "code",
   "execution_count": 29,
   "metadata": {},
   "outputs": [],
   "source": [
    "df.to_csv('miem_vectors.csv', index=False) "
   ]
  },
  {
   "cell_type": "code",
   "execution_count": null,
   "metadata": {},
   "outputs": [],
   "source": []
  }
 ],
 "metadata": {
  "kernelspec": {
   "display_name": "Python 3",
   "language": "python",
   "name": "python3"
  },
  "language_info": {
   "codemirror_mode": {
    "name": "ipython",
    "version": 3
   },
   "file_extension": ".py",
   "mimetype": "text/x-python",
   "name": "python",
   "nbconvert_exporter": "python",
   "pygments_lexer": "ipython3",
   "version": "3.7.4"
  }
 },
 "nbformat": 4,
 "nbformat_minor": 2
}
